{
 "cells": [
  {
   "cell_type": "code",
   "execution_count": 1,
   "id": "3f4d2b60",
   "metadata": {},
   "outputs": [
    {
     "name": "stdout",
     "output_type": "stream",
     "text": [
      "My name is Ali Fazel\n",
      "The date is 14 September 2022\n"
     ]
    }
   ],
   "source": [
    "# This is my first line of code\n",
    "\n",
    "print ('My name is Ali Fazel')\n",
    "print ('The date is 14 September 2022')"
   ]
  },
  {
   "cell_type": "code",
   "execution_count": 4,
   "id": "156b3c69",
   "metadata": {},
   "outputs": [
    {
     "name": "stdout",
     "output_type": "stream",
     "text": [
      "182900\n",
      "36580.0\n",
      "60500\n"
     ]
    }
   ],
   "source": [
    "# Write a program to analyse real estate data\n",
    "\n",
    "a = 45000\n",
    "b = 23400\n",
    "c = 67000\n",
    "d = 34600\n",
    "e = 12900\n",
    "\n",
    "# Total sales for December \n",
    "x = a + b + c + d + e\n",
    "\n",
    "print (x)\n",
    "\n",
    "# Average sale price for December\n",
    "y = 182900 / 5\n",
    "\n",
    "print (y)\n",
    "\n",
    "# Property price for property ID C \n",
    "z = c - 6500\n",
    "\n",
    "print (z)"
   ]
  }
 ],
 "metadata": {
  "kernelspec": {
   "display_name": "Python 3 (ipykernel)",
   "language": "python",
   "name": "python3"
  },
  "language_info": {
   "codemirror_mode": {
    "name": "ipython",
    "version": 3
   },
   "file_extension": ".py",
   "mimetype": "text/x-python",
   "name": "python",
   "nbconvert_exporter": "python",
   "pygments_lexer": "ipython3",
   "version": "3.9.12"
  }
 },
 "nbformat": 4,
 "nbformat_minor": 5
}
